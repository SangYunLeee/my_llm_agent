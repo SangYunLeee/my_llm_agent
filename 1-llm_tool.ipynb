{
 "cells": [
  {
   "cell_type": "markdown",
   "metadata": {},
   "source": [
    "# import basic"
   ]
  },
  {
   "cell_type": "code",
   "execution_count": 1,
   "metadata": {},
   "outputs": [],
   "source": [
    "# imports\n",
    "\n",
    "from dotenv import load_dotenv\n",
    "from openai import OpenAI\n",
    "import json\n",
    "import os\n",
    "import requests"
   ]
  },
  {
   "cell_type": "code",
   "execution_count": 2,
   "metadata": {},
   "outputs": [],
   "source": [
    "# The usual start\n",
    "\n",
    "load_dotenv(override=True)\n",
    "openai = OpenAI()"
   ]
  },
  {
   "cell_type": "code",
   "execution_count": 3,
   "metadata": {},
   "outputs": [],
   "source": [
    "# list of object of animals\n",
    "\n",
    "animals = {\n",
    "      \"dog\": {\n",
    "        \"sound\": \"bark\",\n",
    "      },\n",
    "      \"cat\": {\n",
    "        \"sound\": \"meow\",\n",
    "      },\n",
    "      \"bird\": {\n",
    "        \"sound\": \"tweet\",\n",
    "      },\n",
    "      \"fish\": {\n",
    "        \"sound\": \"bubble\",\n",
    "      },\n",
    "      \"snake\": {\n",
    "        \"sound\": \"hiss\",\n",
    "      }\n",
    "    }\n",
    "\n",
    "def search_animal_secret_sound(animal_name):\n",
    "    return animals[animal_name][\"sound\"]"
   ]
  },
  {
   "cell_type": "code",
   "execution_count": 4,
   "metadata": {},
   "outputs": [],
   "source": [
    "search_animal_json = {\n",
    "    \"name\": \"search_animal_secret_sound_function\",\n",
    "    \"description\": \"Use this tool to search for an animal by name\",\n",
    "    \"parameters\": {\n",
    "        \"type\": \"object\",\n",
    "        \"properties\": {\n",
    "            \"animal_name\": {\n",
    "                \"type\": \"string\",\n",
    "                \"description\": \"The name of the animal to search for\"\n",
    "            }\n",
    "        },\n",
    "        \"required\": [\"animal_name\"],\n",
    "        \"additionalProperties\": False\n",
    "    }\n",
    "}"
   ]
  },
  {
   "cell_type": "code",
   "execution_count": 5,
   "metadata": {},
   "outputs": [],
   "source": [
    "tools = [{\"type\": \"function\", \"function\": search_animal_json}]"
   ]
  },
  {
   "cell_type": "code",
   "execution_count": null,
   "metadata": {},
   "outputs": [],
   "source": [
    "tools"
   ]
  },
  {
   "cell_type": "code",
   "execution_count": 7,
   "metadata": {},
   "outputs": [],
   "source": [
    "# This function can take a list of tool calls, and run them. This is the IF statement!!\n",
    "\n",
    "def handle_tool_calls(tool_calls):\n",
    "    results = []\n",
    "    for tool_call in tool_calls:\n",
    "        tool_name = tool_call.function.name\n",
    "        arguments = json.loads(tool_call.function.arguments)\n",
    "        print(f\"Tool called: \\n {tool_name}\", flush=True)\n",
    "        if tool_name == \"search_animal_secret_sound_function\":\n",
    "            result = search_animal_secret_sound(**arguments)\n",
    "            results.append({\"role\": \"tool\",\"content\": json.dumps(result),\"tool_call_id\": tool_call.id})\n",
    "    return results"
   ]
  },
  {
   "cell_type": "code",
   "execution_count": null,
   "metadata": {},
   "outputs": [],
   "source": [
    "message=\"i want to know the secret sound of a dog\"\n",
    "messages = [{\"role\": \"system\", \"content\": \"\"}]  + [{\"role\": \"user\", \"content\": message}]\n",
    "\n",
    "bStream = False\n",
    "response = openai.chat.completions.create(model=\"gpt-4o-mini\", messages=messages, tools=tools)\n",
    "\n",
    "finish_reason = response.choices[0].finish_reason\n",
    "\n",
    "if finish_reason==\"tool_calls\":\n",
    "    message = response.choices[0].message\n",
    "    tool_calls = message.tool_calls\n",
    "    # print(tool_calls)\n",
    "    results = handle_tool_calls(tool_calls)\n",
    "    print('\\nTool call Results: \\n', results)\n",
    "    messages.append(message)\n",
    "    messages.extend(results)\n",
    "\n",
    "    bStream = True\n",
    "    response = openai.chat.completions.create(\n",
    "        model=\"gpt-4o-mini\",\n",
    "        messages=messages,\n",
    "        stream=True  # 스트리밍 옵션 추가!\n",
    "    )\n",
    "\n",
    "# print result\n",
    "print('\\nFinal Response:');\n",
    "if bStream == False:\n",
    "    print(response.choices[0].message.content)\n",
    "else:\n",
    "    for chunk in response:\n",
    "        # 각 chunk에는 부분 응답이 들어있음\n",
    "        print(chunk.choices[0].delta.content, end=\"\", flush=True)\n",
    "\n"
   ]
  },
  {
   "cell_type": "code",
   "execution_count": null,
   "metadata": {},
   "outputs": [],
   "source": []
  }
 ],
 "metadata": {
  "kernelspec": {
   "display_name": ".venv",
   "language": "python",
   "name": "python3"
  },
  "language_info": {
   "codemirror_mode": {
    "name": "ipython",
    "version": 3
   },
   "file_extension": ".py",
   "mimetype": "text/x-python",
   "name": "python",
   "nbconvert_exporter": "python",
   "pygments_lexer": "ipython3",
   "version": "3.12.7"
  }
 },
 "nbformat": 4,
 "nbformat_minor": 2
}
