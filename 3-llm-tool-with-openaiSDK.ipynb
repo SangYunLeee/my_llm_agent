{
 "cells": [
  {
   "cell_type": "code",
   "execution_count": 5,
   "metadata": {},
   "outputs": [],
   "source": [
    "from dotenv import load_dotenv\n",
    "from agents import Agent, Runner, trace, function_tool\n",
    "import json\n",
    "from openai.types.responses import ResponseTextDeltaEvent\n"
   ]
  },
  {
   "cell_type": "code",
   "execution_count": 6,
   "metadata": {},
   "outputs": [
    {
     "data": {
      "text/plain": [
       "False"
      ]
     },
     "execution_count": 6,
     "metadata": {},
     "output_type": "execute_result"
    }
   ],
   "source": [
    "# The usual starting point\n",
    "\n",
    "load_dotenv(override=True)"
   ]
  },
  {
   "cell_type": "code",
   "execution_count": 7,
   "metadata": {},
   "outputs": [],
   "source": [
    "# list of object of animals\n",
    "\n",
    "animals = {\n",
    "    \"dog\": {\n",
    "        \"sound\": \"bark\",\n",
    "    },\n",
    "    \"cat\": {\n",
    "        \"sound\": \"meow\",\n",
    "    },\n",
    "    \"bird\": {\n",
    "        \"sound\": \"tweet\",\n",
    "    },\n",
    "    \"fish\": {\n",
    "        \"sound\": \"bubble\",\n",
    "    },\n",
    "    \"snake\": {\n",
    "        \"sound\": \"hiss\",\n",
    "    }\n",
    "}\n",
    "\n",
    "@function_tool\n",
    "def search_animal_secret_sound(animal_name: str):\n",
    "    \"Use this tool to search for an animal's secret sound by name\"\n",
    "    return animals[animal_name][\"sound\"]"
   ]
  },
  {
   "cell_type": "markdown",
   "metadata": {},
   "source": [
    "함수가 자동으로 Tool 함수로 변경됨"
   ]
  },
  {
   "cell_type": "code",
   "execution_count": 4,
   "metadata": {},
   "outputs": [
    {
     "data": {
      "text/plain": [
       "FunctionTool(name='search_animal_secret_sound', description='Use this tool to search for an animal by name', params_json_schema={'properties': {'animal_name': {'title': 'Animal Name', 'type': 'string'}}, 'required': ['animal_name'], 'title': 'search_animal_secret_sound_args', 'type': 'object', 'additionalProperties': False}, on_invoke_tool=<function function_tool.<locals>._create_function_tool.<locals>._on_invoke_tool at 0x10c85c400>, strict_json_schema=True)"
      ]
     },
     "execution_count": 4,
     "metadata": {},
     "output_type": "execute_result"
    }
   ],
   "source": [
    "search_animal_secret_sound"
   ]
  },
  {
   "cell_type": "code",
   "execution_count": 8,
   "metadata": {},
   "outputs": [],
   "source": [
    "# Make an agent with name, instructions, model\n",
    "message=\"i want to know the secret sound of a dog\"\n",
    "agent = Agent(name=\"sound finder\", instructions=\"You are sound finder\", model=\"gpt-4o-mini\", tools=[search_animal_secret_sound])\n",
    "result = Runner.run_streamed(agent, input=message)"
   ]
  },
  {
   "cell_type": "code",
   "execution_count": 9,
   "metadata": {},
   "outputs": [
    {
     "name": "stdout",
     "output_type": "stream",
     "text": [
      "The secret sound of a dog is a \"bark.\""
     ]
    }
   ],
   "source": [
    "\n",
    "async for event in result.stream_events():\n",
    "    if event.type == \"raw_response_event\" and isinstance(event.data, ResponseTextDeltaEvent):\n",
    "        print(event.data.delta, end=\"\", flush=True)"
   ]
  }
 ],
 "metadata": {
  "kernelspec": {
   "display_name": ".venv",
   "language": "python",
   "name": "python3"
  },
  "language_info": {
   "codemirror_mode": {
    "name": "ipython",
    "version": 3
   },
   "file_extension": ".py",
   "mimetype": "text/x-python",
   "name": "python",
   "nbconvert_exporter": "python",
   "pygments_lexer": "ipython3",
   "version": "3.12.10"
  }
 },
 "nbformat": 4,
 "nbformat_minor": 2
}
